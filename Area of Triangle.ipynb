{
 "cells": [
  {
   "cell_type": "code",
   "execution_count": 14,
   "id": "2b504d07",
   "metadata": {},
   "outputs": [
    {
     "name": "stdout",
     "output_type": "stream",
     "text": [
      "Enter the Base: 10\n",
      "Enter the height: 10\n",
      "50.0\n"
     ]
    }
   ],
   "source": [
    "#How to calculate area of triangle using base and height of the triangle in python\n",
    "\n",
    "#height is a, base is b\n",
    "\n",
    "\n",
    "def triangle_area(base, height):\n",
    "    x= 0.5 * base * height\n",
    "    return x\n",
    "\n",
    "base_length = int(input(\"Enter the Base: \"))\n",
    "height_length = int(input(\"Enter the height: \"))\n",
    "\n",
    "area = triangle_area(base_length, height_length)\n",
    "print(area)"
   ]
  },
  {
   "cell_type": "code",
   "execution_count": 13,
   "id": "59c2d68a",
   "metadata": {},
   "outputs": [
    {
     "name": "stdout",
     "output_type": "stream",
     "text": [
      "Enter the length of side A: 10\n",
      "Enter the length of side B: 10\n",
      "Enter the lenght of side C: 10\n",
      "Area of the triangle is 43.30127018922193\n"
     ]
    }
   ],
   "source": [
    "#how to calculate the area of triangle with sides a, b and c\n",
    "\n",
    "import math\n",
    "\n",
    "def area_triangle(a, b, c):\n",
    "    s = (a + b + c) / 2\n",
    "    area = math.sqrt(s*(s-a)*(s-b)*(s-c))\n",
    "    return area\n",
    "\n",
    "side_a = float(input(\"Enter the length of side A: \"))\n",
    "side_b = float(input(\"Enter the length of side B: \"))\n",
    "side_c = float(input(\"Enter the lenght of side C: \"))\n",
    "\n",
    "area = area_triangle(side_a, side_b, side_c)\n",
    "print(\"Area of the triangle is\", area)\n"
   ]
  },
  {
   "cell_type": "code",
   "execution_count": null,
   "id": "a9ab60aa",
   "metadata": {},
   "outputs": [],
   "source": [
    "\n"
   ]
  },
  {
   "cell_type": "code",
   "execution_count": null,
   "id": "da8df65a",
   "metadata": {},
   "outputs": [],
   "source": []
  }
 ],
 "metadata": {
  "kernelspec": {
   "display_name": "Python 3 (ipykernel)",
   "language": "python",
   "name": "python3"
  },
  "language_info": {
   "codemirror_mode": {
    "name": "ipython",
    "version": 3
   },
   "file_extension": ".py",
   "mimetype": "text/x-python",
   "name": "python",
   "nbconvert_exporter": "python",
   "pygments_lexer": "ipython3",
   "version": "3.11.5"
  }
 },
 "nbformat": 4,
 "nbformat_minor": 5
}
