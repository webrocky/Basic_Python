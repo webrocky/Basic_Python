{
 "cells": [
  {
   "cell_type": "code",
   "execution_count": 1,
   "id": "faf5b87a",
   "metadata": {},
   "outputs": [
    {
     "name": "stdout",
     "output_type": "stream",
     "text": [
      "Square root of a is (8+0j)\n"
     ]
    }
   ],
   "source": [
    "#How to take square root of a number using python.\n",
    "\n",
    "import cmath\n",
    "\n",
    "a = 64\n",
    "b = cmath.sqrt(a)\n",
    "\n",
    "print(\"Square root of a is\", b)"
   ]
  },
  {
   "cell_type": "code",
   "execution_count": null,
   "id": "3e07307b",
   "metadata": {},
   "outputs": [],
   "source": []
  }
 ],
 "metadata": {
  "kernelspec": {
   "display_name": "Python 3 (ipykernel)",
   "language": "python",
   "name": "python3"
  },
  "language_info": {
   "codemirror_mode": {
    "name": "ipython",
    "version": 3
   },
   "file_extension": ".py",
   "mimetype": "text/x-python",
   "name": "python",
   "nbconvert_exporter": "python",
   "pygments_lexer": "ipython3",
   "version": "3.11.5"
  }
 },
 "nbformat": 4,
 "nbformat_minor": 5
}
